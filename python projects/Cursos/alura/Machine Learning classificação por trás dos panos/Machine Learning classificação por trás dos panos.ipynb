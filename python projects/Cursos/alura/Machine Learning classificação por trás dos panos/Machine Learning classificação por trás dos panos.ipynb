{
 "cells": [
  {
   "cell_type": "markdown",
   "metadata": {
    "id": "uOxsWL4fyQ2J"
   },
   "source": [
    "#### Machine Learning: classificação por trás dos panos"
   ]
  },
  {
   "cell_type": "code",
   "execution_count": 1,
   "metadata": {
    "executionInfo": {
     "elapsed": 1389,
     "status": "ok",
     "timestamp": 1652934137463,
     "user": {
      "displayName": "Ana Clara Mioto",
      "userId": "02280775085590012326"
     },
     "user_tz": 180
    },
    "id": "EcFx0fP0yQ2N"
   },
   "outputs": [],
   "source": [
    "import pandas as pd"
   ]
  },
  {
   "cell_type": "code",
   "execution_count": 2,
   "metadata": {
    "executionInfo": {
     "elapsed": 6,
     "status": "ok",
     "timestamp": 1652934137464,
     "user": {
      "displayName": "Ana Clara Mioto",
      "userId": "02280775085590012326"
     },
     "user_tz": 180
    },
    "id": "jMxgxTXnyQ2O"
   },
   "outputs": [],
   "source": [
    "dados = pd.read_csv('Dados/Customer-Churn.csv')"
   ]
  },
  {
   "cell_type": "code",
   "execution_count": 3,
   "metadata": {
    "colab": {
     "base_uri": "https://localhost:8080/"
    },
    "executionInfo": {
     "elapsed": 7,
     "status": "ok",
     "timestamp": 1652934137465,
     "user": {
      "displayName": "Ana Clara Mioto",
      "userId": "02280775085590012326"
     },
     "user_tz": 180
    },
    "id": "neE16a7wyQ2O",
    "outputId": "76398158-4595-4618-b3c7-015fa1e26c80"
   },
   "outputs": [
    {
     "data": {
      "text/plain": [
       "(7043, 18)"
      ]
     },
     "execution_count": 3,
     "metadata": {},
     "output_type": "execute_result"
    }
   ],
   "source": [
    "dados.shape"
   ]
  },
  {
   "cell_type": "code",
   "execution_count": 4,
   "metadata": {
    "colab": {
     "base_uri": "https://localhost:8080/",
     "height": 270
    },
    "executionInfo": {
     "elapsed": 6,
     "status": "ok",
     "timestamp": 1652934137465,
     "user": {
      "displayName": "Ana Clara Mioto",
      "userId": "02280775085590012326"
     },
     "user_tz": 180
    },
    "id": "k_QTfXOSyQ2P",
    "outputId": "1610156a-b23b-4ce6-8479-44456f8db1bf"
   },
   "outputs": [
    {
     "data": {
      "text/html": [
       "<div>\n",
       "<style scoped>\n",
       "    .dataframe tbody tr th:only-of-type {\n",
       "        vertical-align: middle;\n",
       "    }\n",
       "\n",
       "    .dataframe tbody tr th {\n",
       "        vertical-align: top;\n",
       "    }\n",
       "\n",
       "    .dataframe thead th {\n",
       "        text-align: right;\n",
       "    }\n",
       "</style>\n",
       "<table border=\"1\" class=\"dataframe\">\n",
       "  <thead>\n",
       "    <tr style=\"text-align: right;\">\n",
       "      <th></th>\n",
       "      <th>Maior65Anos</th>\n",
       "      <th>Conjuge</th>\n",
       "      <th>Dependentes</th>\n",
       "      <th>MesesDeContrato</th>\n",
       "      <th>TelefoneFixo</th>\n",
       "      <th>VariasLinhasTelefonicas</th>\n",
       "      <th>ServicoDeInternet</th>\n",
       "      <th>SegurancaOnline</th>\n",
       "      <th>BackupOnline</th>\n",
       "      <th>SeguroNoDispositivo</th>\n",
       "      <th>SuporteTecnico</th>\n",
       "      <th>TVaCabo</th>\n",
       "      <th>StreamingDeFilmes</th>\n",
       "      <th>TipoDeContrato</th>\n",
       "      <th>PagamentoOnline</th>\n",
       "      <th>FormaDePagamento</th>\n",
       "      <th>ContaMensal</th>\n",
       "      <th>Churn</th>\n",
       "    </tr>\n",
       "  </thead>\n",
       "  <tbody>\n",
       "    <tr>\n",
       "      <th>0</th>\n",
       "      <td>0</td>\n",
       "      <td>Sim</td>\n",
       "      <td>Nao</td>\n",
       "      <td>1</td>\n",
       "      <td>Nao</td>\n",
       "      <td>SemServicoTelefonico</td>\n",
       "      <td>DSL</td>\n",
       "      <td>Nao</td>\n",
       "      <td>Sim</td>\n",
       "      <td>Nao</td>\n",
       "      <td>Nao</td>\n",
       "      <td>Nao</td>\n",
       "      <td>Nao</td>\n",
       "      <td>Mensalmente</td>\n",
       "      <td>Sim</td>\n",
       "      <td>ChequeDigital</td>\n",
       "      <td>29.85</td>\n",
       "      <td>Nao</td>\n",
       "    </tr>\n",
       "    <tr>\n",
       "      <th>1</th>\n",
       "      <td>0</td>\n",
       "      <td>Nao</td>\n",
       "      <td>Nao</td>\n",
       "      <td>34</td>\n",
       "      <td>Sim</td>\n",
       "      <td>Nao</td>\n",
       "      <td>DSL</td>\n",
       "      <td>Sim</td>\n",
       "      <td>Nao</td>\n",
       "      <td>Sim</td>\n",
       "      <td>Nao</td>\n",
       "      <td>Nao</td>\n",
       "      <td>Nao</td>\n",
       "      <td>UmAno</td>\n",
       "      <td>Nao</td>\n",
       "      <td>ChequePapel</td>\n",
       "      <td>56.95</td>\n",
       "      <td>Nao</td>\n",
       "    </tr>\n",
       "    <tr>\n",
       "      <th>2</th>\n",
       "      <td>0</td>\n",
       "      <td>Nao</td>\n",
       "      <td>Nao</td>\n",
       "      <td>2</td>\n",
       "      <td>Sim</td>\n",
       "      <td>Nao</td>\n",
       "      <td>DSL</td>\n",
       "      <td>Sim</td>\n",
       "      <td>Sim</td>\n",
       "      <td>Nao</td>\n",
       "      <td>Nao</td>\n",
       "      <td>Nao</td>\n",
       "      <td>Nao</td>\n",
       "      <td>Mensalmente</td>\n",
       "      <td>Sim</td>\n",
       "      <td>ChequePapel</td>\n",
       "      <td>53.85</td>\n",
       "      <td>Sim</td>\n",
       "    </tr>\n",
       "    <tr>\n",
       "      <th>3</th>\n",
       "      <td>0</td>\n",
       "      <td>Nao</td>\n",
       "      <td>Nao</td>\n",
       "      <td>45</td>\n",
       "      <td>Nao</td>\n",
       "      <td>SemServicoTelefonico</td>\n",
       "      <td>DSL</td>\n",
       "      <td>Sim</td>\n",
       "      <td>Nao</td>\n",
       "      <td>Sim</td>\n",
       "      <td>Sim</td>\n",
       "      <td>Nao</td>\n",
       "      <td>Nao</td>\n",
       "      <td>UmAno</td>\n",
       "      <td>Nao</td>\n",
       "      <td>DebitoEmConta</td>\n",
       "      <td>42.30</td>\n",
       "      <td>Nao</td>\n",
       "    </tr>\n",
       "    <tr>\n",
       "      <th>4</th>\n",
       "      <td>0</td>\n",
       "      <td>Nao</td>\n",
       "      <td>Nao</td>\n",
       "      <td>2</td>\n",
       "      <td>Sim</td>\n",
       "      <td>Nao</td>\n",
       "      <td>FibraOptica</td>\n",
       "      <td>Nao</td>\n",
       "      <td>Nao</td>\n",
       "      <td>Nao</td>\n",
       "      <td>Nao</td>\n",
       "      <td>Nao</td>\n",
       "      <td>Nao</td>\n",
       "      <td>Mensalmente</td>\n",
       "      <td>Sim</td>\n",
       "      <td>ChequeDigital</td>\n",
       "      <td>70.70</td>\n",
       "      <td>Sim</td>\n",
       "    </tr>\n",
       "  </tbody>\n",
       "</table>\n",
       "</div>"
      ],
      "text/plain": [
       "   Maior65Anos Conjuge Dependentes  MesesDeContrato TelefoneFixo  \\\n",
       "0            0     Sim         Nao                1          Nao   \n",
       "1            0     Nao         Nao               34          Sim   \n",
       "2            0     Nao         Nao                2          Sim   \n",
       "3            0     Nao         Nao               45          Nao   \n",
       "4            0     Nao         Nao                2          Sim   \n",
       "\n",
       "  VariasLinhasTelefonicas ServicoDeInternet SegurancaOnline BackupOnline  \\\n",
       "0    SemServicoTelefonico               DSL             Nao          Sim   \n",
       "1                     Nao               DSL             Sim          Nao   \n",
       "2                     Nao               DSL             Sim          Sim   \n",
       "3    SemServicoTelefonico               DSL             Sim          Nao   \n",
       "4                     Nao       FibraOptica             Nao          Nao   \n",
       "\n",
       "  SeguroNoDispositivo SuporteTecnico TVaCabo StreamingDeFilmes TipoDeContrato  \\\n",
       "0                 Nao            Nao     Nao               Nao    Mensalmente   \n",
       "1                 Sim            Nao     Nao               Nao          UmAno   \n",
       "2                 Nao            Nao     Nao               Nao    Mensalmente   \n",
       "3                 Sim            Sim     Nao               Nao          UmAno   \n",
       "4                 Nao            Nao     Nao               Nao    Mensalmente   \n",
       "\n",
       "  PagamentoOnline FormaDePagamento  ContaMensal Churn  \n",
       "0             Sim    ChequeDigital        29.85   Nao  \n",
       "1             Nao      ChequePapel        56.95   Nao  \n",
       "2             Sim      ChequePapel        53.85   Sim  \n",
       "3             Nao    DebitoEmConta        42.30   Nao  \n",
       "4             Sim    ChequeDigital        70.70   Sim  "
      ]
     },
     "execution_count": 4,
     "metadata": {},
     "output_type": "execute_result"
    }
   ],
   "source": [
    "dados.head()"
   ]
  },
  {
   "cell_type": "code",
   "execution_count": 5,
   "metadata": {
    "colab": {
     "base_uri": "https://localhost:8080/",
     "height": 206
    },
    "executionInfo": {
     "elapsed": 6,
     "status": "ok",
     "timestamp": 1652934137466,
     "user": {
      "displayName": "Ana Clara Mioto",
      "userId": "02280775085590012326"
     },
     "user_tz": 180
    },
    "id": "uQLvJoZ0yQ2Q",
    "outputId": "eff5207e-82b5-49a1-b6b5-201300929646"
   },
   "outputs": [
    {
     "data": {
      "text/html": [
       "<div>\n",
       "<style scoped>\n",
       "    .dataframe tbody tr th:only-of-type {\n",
       "        vertical-align: middle;\n",
       "    }\n",
       "\n",
       "    .dataframe tbody tr th {\n",
       "        vertical-align: top;\n",
       "    }\n",
       "\n",
       "    .dataframe thead th {\n",
       "        text-align: right;\n",
       "    }\n",
       "</style>\n",
       "<table border=\"1\" class=\"dataframe\">\n",
       "  <thead>\n",
       "    <tr style=\"text-align: right;\">\n",
       "      <th></th>\n",
       "      <th>Conjuge</th>\n",
       "      <th>Dependentes</th>\n",
       "      <th>TelefoneFixo</th>\n",
       "      <th>PagamentoOnline</th>\n",
       "      <th>Churn</th>\n",
       "    </tr>\n",
       "  </thead>\n",
       "  <tbody>\n",
       "    <tr>\n",
       "      <th>0</th>\n",
       "      <td>1</td>\n",
       "      <td>0</td>\n",
       "      <td>0</td>\n",
       "      <td>1</td>\n",
       "      <td>0</td>\n",
       "    </tr>\n",
       "    <tr>\n",
       "      <th>1</th>\n",
       "      <td>0</td>\n",
       "      <td>0</td>\n",
       "      <td>1</td>\n",
       "      <td>0</td>\n",
       "      <td>0</td>\n",
       "    </tr>\n",
       "    <tr>\n",
       "      <th>2</th>\n",
       "      <td>0</td>\n",
       "      <td>0</td>\n",
       "      <td>1</td>\n",
       "      <td>1</td>\n",
       "      <td>1</td>\n",
       "    </tr>\n",
       "    <tr>\n",
       "      <th>3</th>\n",
       "      <td>0</td>\n",
       "      <td>0</td>\n",
       "      <td>0</td>\n",
       "      <td>0</td>\n",
       "      <td>0</td>\n",
       "    </tr>\n",
       "    <tr>\n",
       "      <th>4</th>\n",
       "      <td>0</td>\n",
       "      <td>0</td>\n",
       "      <td>1</td>\n",
       "      <td>1</td>\n",
       "      <td>1</td>\n",
       "    </tr>\n",
       "  </tbody>\n",
       "</table>\n",
       "</div>"
      ],
      "text/plain": [
       "   Conjuge  Dependentes  TelefoneFixo  PagamentoOnline  Churn\n",
       "0        1            0             0                1      0\n",
       "1        0            0             1                0      0\n",
       "2        0            0             1                1      1\n",
       "3        0            0             0                0      0\n",
       "4        0            0             1                1      1"
      ]
     },
     "execution_count": 5,
     "metadata": {},
     "output_type": "execute_result"
    }
   ],
   "source": [
    "# modificação de forma manual \n",
    "traducao_dic = {'Sim': 1, \n",
    "                'Nao': 0}\n",
    "\n",
    "dadosmodificados = dados[['Conjuge', 'Dependentes', 'TelefoneFixo', 'PagamentoOnline', 'Churn']].replace(traducao_dic)\n",
    "dadosmodificados.head()"
   ]
  },
  {
   "cell_type": "code",
   "execution_count": 6,
   "metadata": {
    "executionInfo": {
     "elapsed": 5,
     "status": "ok",
     "timestamp": 1652934137466,
     "user": {
      "displayName": "Ana Clara Mioto",
      "userId": "02280775085590012326"
     },
     "user_tz": 180
    },
    "id": "0Dc3-8wayQ2R"
   },
   "outputs": [],
   "source": [
    "# transformação pelo get_dummies\n",
    "dummie_dados = pd.get_dummies(dados.drop(['Conjuge', 'Dependentes', 'TelefoneFixo', 'PagamentoOnline', 'Churn'],\n",
    "                axis=1))\n",
    "\n",
    "#junção dos dados trasformados com os que já tinhamos\n",
    "dados_final = pd.concat([dadosmodificados, dummie_dados], axis=1)"
   ]
  },
  {
   "cell_type": "code",
   "execution_count": 7,
   "metadata": {
    "colab": {
     "base_uri": "https://localhost:8080/",
     "height": 300
    },
    "executionInfo": {
     "elapsed": 399,
     "status": "ok",
     "timestamp": 1652934137860,
     "user": {
      "displayName": "Ana Clara Mioto",
      "userId": "02280775085590012326"
     },
     "user_tz": 180
    },
    "id": "UmQrjUnh08vu",
    "outputId": "220aa24f-016c-4f9d-ce34-2928766087d2"
   },
   "outputs": [
    {
     "data": {
      "text/html": [
       "<div>\n",
       "<style scoped>\n",
       "    .dataframe tbody tr th:only-of-type {\n",
       "        vertical-align: middle;\n",
       "    }\n",
       "\n",
       "    .dataframe tbody tr th {\n",
       "        vertical-align: top;\n",
       "    }\n",
       "\n",
       "    .dataframe thead th {\n",
       "        text-align: right;\n",
       "    }\n",
       "</style>\n",
       "<table border=\"1\" class=\"dataframe\">\n",
       "  <thead>\n",
       "    <tr style=\"text-align: right;\">\n",
       "      <th></th>\n",
       "      <th>Conjuge</th>\n",
       "      <th>Dependentes</th>\n",
       "      <th>TelefoneFixo</th>\n",
       "      <th>PagamentoOnline</th>\n",
       "      <th>Churn</th>\n",
       "      <th>Maior65Anos</th>\n",
       "      <th>MesesDeContrato</th>\n",
       "      <th>ContaMensal</th>\n",
       "      <th>VariasLinhasTelefonicas_Nao</th>\n",
       "      <th>VariasLinhasTelefonicas_SemServicoTelefonico</th>\n",
       "      <th>...</th>\n",
       "      <th>StreamingDeFilmes_Nao</th>\n",
       "      <th>StreamingDeFilmes_SemServicoDeInternet</th>\n",
       "      <th>StreamingDeFilmes_Sim</th>\n",
       "      <th>TipoDeContrato_DoisAnos</th>\n",
       "      <th>TipoDeContrato_Mensalmente</th>\n",
       "      <th>TipoDeContrato_UmAno</th>\n",
       "      <th>FormaDePagamento_CartaoDeCredito</th>\n",
       "      <th>FormaDePagamento_ChequeDigital</th>\n",
       "      <th>FormaDePagamento_ChequePapel</th>\n",
       "      <th>FormaDePagamento_DebitoEmConta</th>\n",
       "    </tr>\n",
       "  </thead>\n",
       "  <tbody>\n",
       "    <tr>\n",
       "      <th>0</th>\n",
       "      <td>1</td>\n",
       "      <td>0</td>\n",
       "      <td>0</td>\n",
       "      <td>1</td>\n",
       "      <td>0</td>\n",
       "      <td>0</td>\n",
       "      <td>1</td>\n",
       "      <td>29.85</td>\n",
       "      <td>0</td>\n",
       "      <td>1</td>\n",
       "      <td>...</td>\n",
       "      <td>1</td>\n",
       "      <td>0</td>\n",
       "      <td>0</td>\n",
       "      <td>0</td>\n",
       "      <td>1</td>\n",
       "      <td>0</td>\n",
       "      <td>0</td>\n",
       "      <td>1</td>\n",
       "      <td>0</td>\n",
       "      <td>0</td>\n",
       "    </tr>\n",
       "    <tr>\n",
       "      <th>1</th>\n",
       "      <td>0</td>\n",
       "      <td>0</td>\n",
       "      <td>1</td>\n",
       "      <td>0</td>\n",
       "      <td>0</td>\n",
       "      <td>0</td>\n",
       "      <td>34</td>\n",
       "      <td>56.95</td>\n",
       "      <td>1</td>\n",
       "      <td>0</td>\n",
       "      <td>...</td>\n",
       "      <td>1</td>\n",
       "      <td>0</td>\n",
       "      <td>0</td>\n",
       "      <td>0</td>\n",
       "      <td>0</td>\n",
       "      <td>1</td>\n",
       "      <td>0</td>\n",
       "      <td>0</td>\n",
       "      <td>1</td>\n",
       "      <td>0</td>\n",
       "    </tr>\n",
       "    <tr>\n",
       "      <th>2</th>\n",
       "      <td>0</td>\n",
       "      <td>0</td>\n",
       "      <td>1</td>\n",
       "      <td>1</td>\n",
       "      <td>1</td>\n",
       "      <td>0</td>\n",
       "      <td>2</td>\n",
       "      <td>53.85</td>\n",
       "      <td>1</td>\n",
       "      <td>0</td>\n",
       "      <td>...</td>\n",
       "      <td>1</td>\n",
       "      <td>0</td>\n",
       "      <td>0</td>\n",
       "      <td>0</td>\n",
       "      <td>1</td>\n",
       "      <td>0</td>\n",
       "      <td>0</td>\n",
       "      <td>0</td>\n",
       "      <td>1</td>\n",
       "      <td>0</td>\n",
       "    </tr>\n",
       "    <tr>\n",
       "      <th>3</th>\n",
       "      <td>0</td>\n",
       "      <td>0</td>\n",
       "      <td>0</td>\n",
       "      <td>0</td>\n",
       "      <td>0</td>\n",
       "      <td>0</td>\n",
       "      <td>45</td>\n",
       "      <td>42.30</td>\n",
       "      <td>0</td>\n",
       "      <td>1</td>\n",
       "      <td>...</td>\n",
       "      <td>1</td>\n",
       "      <td>0</td>\n",
       "      <td>0</td>\n",
       "      <td>0</td>\n",
       "      <td>0</td>\n",
       "      <td>1</td>\n",
       "      <td>0</td>\n",
       "      <td>0</td>\n",
       "      <td>0</td>\n",
       "      <td>1</td>\n",
       "    </tr>\n",
       "    <tr>\n",
       "      <th>4</th>\n",
       "      <td>0</td>\n",
       "      <td>0</td>\n",
       "      <td>1</td>\n",
       "      <td>1</td>\n",
       "      <td>1</td>\n",
       "      <td>0</td>\n",
       "      <td>2</td>\n",
       "      <td>70.70</td>\n",
       "      <td>1</td>\n",
       "      <td>0</td>\n",
       "      <td>...</td>\n",
       "      <td>1</td>\n",
       "      <td>0</td>\n",
       "      <td>0</td>\n",
       "      <td>0</td>\n",
       "      <td>1</td>\n",
       "      <td>0</td>\n",
       "      <td>0</td>\n",
       "      <td>1</td>\n",
       "      <td>0</td>\n",
       "      <td>0</td>\n",
       "    </tr>\n",
       "  </tbody>\n",
       "</table>\n",
       "<p>5 rows × 39 columns</p>\n",
       "</div>"
      ],
      "text/plain": [
       "   Conjuge  Dependentes  TelefoneFixo  PagamentoOnline  Churn  Maior65Anos  \\\n",
       "0        1            0             0                1      0            0   \n",
       "1        0            0             1                0      0            0   \n",
       "2        0            0             1                1      1            0   \n",
       "3        0            0             0                0      0            0   \n",
       "4        0            0             1                1      1            0   \n",
       "\n",
       "   MesesDeContrato  ContaMensal  VariasLinhasTelefonicas_Nao  \\\n",
       "0                1        29.85                            0   \n",
       "1               34        56.95                            1   \n",
       "2                2        53.85                            1   \n",
       "3               45        42.30                            0   \n",
       "4                2        70.70                            1   \n",
       "\n",
       "   VariasLinhasTelefonicas_SemServicoTelefonico  ...  StreamingDeFilmes_Nao  \\\n",
       "0                                             1  ...                      1   \n",
       "1                                             0  ...                      1   \n",
       "2                                             0  ...                      1   \n",
       "3                                             1  ...                      1   \n",
       "4                                             0  ...                      1   \n",
       "\n",
       "   StreamingDeFilmes_SemServicoDeInternet  StreamingDeFilmes_Sim  \\\n",
       "0                                       0                      0   \n",
       "1                                       0                      0   \n",
       "2                                       0                      0   \n",
       "3                                       0                      0   \n",
       "4                                       0                      0   \n",
       "\n",
       "   TipoDeContrato_DoisAnos  TipoDeContrato_Mensalmente  TipoDeContrato_UmAno  \\\n",
       "0                        0                           1                     0   \n",
       "1                        0                           0                     1   \n",
       "2                        0                           1                     0   \n",
       "3                        0                           0                     1   \n",
       "4                        0                           1                     0   \n",
       "\n",
       "   FormaDePagamento_CartaoDeCredito  FormaDePagamento_ChequeDigital  \\\n",
       "0                                 0                               1   \n",
       "1                                 0                               0   \n",
       "2                                 0                               0   \n",
       "3                                 0                               0   \n",
       "4                                 0                               1   \n",
       "\n",
       "   FormaDePagamento_ChequePapel  FormaDePagamento_DebitoEmConta  \n",
       "0                             0                               0  \n",
       "1                             1                               0  \n",
       "2                             1                               0  \n",
       "3                             0                               1  \n",
       "4                             0                               0  \n",
       "\n",
       "[5 rows x 39 columns]"
      ]
     },
     "execution_count": 7,
     "metadata": {},
     "output_type": "execute_result"
    }
   ],
   "source": [
    "dados_final.head()"
   ]
  },
  {
   "cell_type": "markdown",
   "metadata": {
    "id": "sSgnt7QWM5rm"
   },
   "source": [
    "Informações para classificação:\n",
    "\n",
    "$X$ = inputs (dados de entrada)\n",
    "\n",
    "$y$ = outputs (dados de saída)"
   ]
  },
  {
   "cell_type": "code",
   "execution_count": 8,
   "metadata": {
    "colab": {
     "base_uri": "https://localhost:8080/",
     "height": 270
    },
    "executionInfo": {
     "elapsed": 6,
     "status": "ok",
     "timestamp": 1652934137861,
     "user": {
      "displayName": "Ana Clara Mioto",
      "userId": "02280775085590012326"
     },
     "user_tz": 180
    },
    "id": "oiHVlSC737NE",
    "outputId": "04517f72-9c16-4a45-9a21-11ef1f9d85df"
   },
   "outputs": [
    {
     "data": {
      "text/html": [
       "<div>\n",
       "<style scoped>\n",
       "    .dataframe tbody tr th:only-of-type {\n",
       "        vertical-align: middle;\n",
       "    }\n",
       "\n",
       "    .dataframe tbody tr th {\n",
       "        vertical-align: top;\n",
       "    }\n",
       "\n",
       "    .dataframe thead th {\n",
       "        text-align: right;\n",
       "    }\n",
       "</style>\n",
       "<table border=\"1\" class=\"dataframe\">\n",
       "  <thead>\n",
       "    <tr style=\"text-align: right;\">\n",
       "      <th></th>\n",
       "      <th>Conjuge</th>\n",
       "      <th>Dependentes</th>\n",
       "      <th>TelefoneFixo</th>\n",
       "      <th>PagamentoOnline</th>\n",
       "      <th>Churn</th>\n",
       "      <th>Maior65Anos</th>\n",
       "      <th>MesesDeContrato</th>\n",
       "      <th>ContaMensal</th>\n",
       "      <th>VariasLinhasTelefonicas_Nao</th>\n",
       "      <th>VariasLinhasTelefonicas_SemServicoTelefonico</th>\n",
       "      <th>...</th>\n",
       "      <th>StreamingDeFilmes_Nao</th>\n",
       "      <th>StreamingDeFilmes_SemServicoDeInternet</th>\n",
       "      <th>StreamingDeFilmes_Sim</th>\n",
       "      <th>TipoDeContrato_DoisAnos</th>\n",
       "      <th>TipoDeContrato_Mensalmente</th>\n",
       "      <th>TipoDeContrato_UmAno</th>\n",
       "      <th>FormaDePagamento_CartaoDeCredito</th>\n",
       "      <th>FormaDePagamento_ChequeDigital</th>\n",
       "      <th>FormaDePagamento_ChequePapel</th>\n",
       "      <th>FormaDePagamento_DebitoEmConta</th>\n",
       "    </tr>\n",
       "  </thead>\n",
       "  <tbody>\n",
       "    <tr>\n",
       "      <th>0</th>\n",
       "      <td>1</td>\n",
       "      <td>0</td>\n",
       "      <td>0</td>\n",
       "      <td>1</td>\n",
       "      <td>0</td>\n",
       "      <td>0</td>\n",
       "      <td>1</td>\n",
       "      <td>29.85</td>\n",
       "      <td>0</td>\n",
       "      <td>1</td>\n",
       "      <td>...</td>\n",
       "      <td>1</td>\n",
       "      <td>0</td>\n",
       "      <td>0</td>\n",
       "      <td>0</td>\n",
       "      <td>1</td>\n",
       "      <td>0</td>\n",
       "      <td>0</td>\n",
       "      <td>1</td>\n",
       "      <td>0</td>\n",
       "      <td>0</td>\n",
       "    </tr>\n",
       "    <tr>\n",
       "      <th>1</th>\n",
       "      <td>0</td>\n",
       "      <td>0</td>\n",
       "      <td>1</td>\n",
       "      <td>0</td>\n",
       "      <td>0</td>\n",
       "      <td>0</td>\n",
       "      <td>34</td>\n",
       "      <td>56.95</td>\n",
       "      <td>1</td>\n",
       "      <td>0</td>\n",
       "      <td>...</td>\n",
       "      <td>1</td>\n",
       "      <td>0</td>\n",
       "      <td>0</td>\n",
       "      <td>0</td>\n",
       "      <td>0</td>\n",
       "      <td>1</td>\n",
       "      <td>0</td>\n",
       "      <td>0</td>\n",
       "      <td>1</td>\n",
       "      <td>0</td>\n",
       "    </tr>\n",
       "    <tr>\n",
       "      <th>2</th>\n",
       "      <td>0</td>\n",
       "      <td>0</td>\n",
       "      <td>1</td>\n",
       "      <td>1</td>\n",
       "      <td>1</td>\n",
       "      <td>0</td>\n",
       "      <td>2</td>\n",
       "      <td>53.85</td>\n",
       "      <td>1</td>\n",
       "      <td>0</td>\n",
       "      <td>...</td>\n",
       "      <td>1</td>\n",
       "      <td>0</td>\n",
       "      <td>0</td>\n",
       "      <td>0</td>\n",
       "      <td>1</td>\n",
       "      <td>0</td>\n",
       "      <td>0</td>\n",
       "      <td>0</td>\n",
       "      <td>1</td>\n",
       "      <td>0</td>\n",
       "    </tr>\n",
       "    <tr>\n",
       "      <th>3</th>\n",
       "      <td>0</td>\n",
       "      <td>0</td>\n",
       "      <td>0</td>\n",
       "      <td>0</td>\n",
       "      <td>0</td>\n",
       "      <td>0</td>\n",
       "      <td>45</td>\n",
       "      <td>42.30</td>\n",
       "      <td>0</td>\n",
       "      <td>1</td>\n",
       "      <td>...</td>\n",
       "      <td>1</td>\n",
       "      <td>0</td>\n",
       "      <td>0</td>\n",
       "      <td>0</td>\n",
       "      <td>0</td>\n",
       "      <td>1</td>\n",
       "      <td>0</td>\n",
       "      <td>0</td>\n",
       "      <td>0</td>\n",
       "      <td>1</td>\n",
       "    </tr>\n",
       "    <tr>\n",
       "      <th>4</th>\n",
       "      <td>0</td>\n",
       "      <td>0</td>\n",
       "      <td>1</td>\n",
       "      <td>1</td>\n",
       "      <td>1</td>\n",
       "      <td>0</td>\n",
       "      <td>2</td>\n",
       "      <td>70.70</td>\n",
       "      <td>1</td>\n",
       "      <td>0</td>\n",
       "      <td>...</td>\n",
       "      <td>1</td>\n",
       "      <td>0</td>\n",
       "      <td>0</td>\n",
       "      <td>0</td>\n",
       "      <td>1</td>\n",
       "      <td>0</td>\n",
       "      <td>0</td>\n",
       "      <td>1</td>\n",
       "      <td>0</td>\n",
       "      <td>0</td>\n",
       "    </tr>\n",
       "  </tbody>\n",
       "</table>\n",
       "<p>5 rows × 39 columns</p>\n",
       "</div>"
      ],
      "text/plain": [
       "   Conjuge  Dependentes  TelefoneFixo  PagamentoOnline  Churn  Maior65Anos  \\\n",
       "0        1            0             0                1      0            0   \n",
       "1        0            0             1                0      0            0   \n",
       "2        0            0             1                1      1            0   \n",
       "3        0            0             0                0      0            0   \n",
       "4        0            0             1                1      1            0   \n",
       "\n",
       "   MesesDeContrato  ContaMensal  VariasLinhasTelefonicas_Nao  \\\n",
       "0                1        29.85                            0   \n",
       "1               34        56.95                            1   \n",
       "2                2        53.85                            1   \n",
       "3               45        42.30                            0   \n",
       "4                2        70.70                            1   \n",
       "\n",
       "   VariasLinhasTelefonicas_SemServicoTelefonico  ...  StreamingDeFilmes_Nao  \\\n",
       "0                                             1  ...                      1   \n",
       "1                                             0  ...                      1   \n",
       "2                                             0  ...                      1   \n",
       "3                                             1  ...                      1   \n",
       "4                                             0  ...                      1   \n",
       "\n",
       "   StreamingDeFilmes_SemServicoDeInternet  StreamingDeFilmes_Sim  \\\n",
       "0                                       0                      0   \n",
       "1                                       0                      0   \n",
       "2                                       0                      0   \n",
       "3                                       0                      0   \n",
       "4                                       0                      0   \n",
       "\n",
       "   TipoDeContrato_DoisAnos  TipoDeContrato_Mensalmente  TipoDeContrato_UmAno  \\\n",
       "0                        0                           1                     0   \n",
       "1                        0                           0                     1   \n",
       "2                        0                           1                     0   \n",
       "3                        0                           0                     1   \n",
       "4                        0                           1                     0   \n",
       "\n",
       "   FormaDePagamento_CartaoDeCredito  FormaDePagamento_ChequeDigital  \\\n",
       "0                                 0                               1   \n",
       "1                                 0                               0   \n",
       "2                                 0                               0   \n",
       "3                                 0                               0   \n",
       "4                                 0                               1   \n",
       "\n",
       "   FormaDePagamento_ChequePapel  FormaDePagamento_DebitoEmConta  \n",
       "0                             0                               0  \n",
       "1                             1                               0  \n",
       "2                             1                               0  \n",
       "3                             0                               1  \n",
       "4                             0                               0  \n",
       "\n",
       "[5 rows x 39 columns]"
      ]
     },
     "execution_count": 8,
     "metadata": {},
     "output_type": "execute_result"
    }
   ],
   "source": [
    "dados_final.head()"
   ]
  },
  {
   "cell_type": "markdown",
   "metadata": {
    "id": "mlxxn4VYTQnV"
   },
   "source": [
    "\n",
    "$y_i$ = $f(x_i)$"
   ]
  },
  {
   "cell_type": "code",
   "execution_count": 9,
   "metadata": {
    "executionInfo": {
     "elapsed": 6,
     "status": "ok",
     "timestamp": 1652934137862,
     "user": {
      "displayName": "Ana Clara Mioto",
      "userId": "02280775085590012326"
     },
     "user_tz": 180
    },
    "id": "JVqSH1yp4Cq2"
   },
   "outputs": [],
   "source": [
    "Xmaria = [[0,0,1,1,0,0,39.90,1,0,0,0,1,0,1,0,0,0,0,1,1,1,0,0,1,0,1,0,0,0,0,1,0,0,1,0,0,0,1]]"
   ]
  },
  {
   "cell_type": "code",
   "execution_count": 10,
   "metadata": {
    "executionInfo": {
     "elapsed": 6,
     "status": "ok",
     "timestamp": 1652934137862,
     "user": {
      "displayName": "Ana Clara Mioto",
      "userId": "02280775085590012326"
     },
     "user_tz": 180
    },
    "id": "1Btl3Wct4CoN"
   },
   "outputs": [],
   "source": [
    "# ymaria = ?"
   ]
  },
  {
   "cell_type": "markdown",
   "metadata": {
    "id": "n4nyxwPFTncE"
   },
   "source": [
    "Novos pares de informações = ($Xmaria$, $ymaria$)"
   ]
  },
  {
   "cell_type": "markdown",
   "metadata": {
    "id": "zCcuXt0FZfNe"
   },
   "source": [
    "## Balanceamento dos dados"
   ]
  },
  {
   "cell_type": "code",
   "execution_count": 11,
   "metadata": {
    "colab": {
     "base_uri": "https://localhost:8080/",
     "height": 0
    },
    "executionInfo": {
     "elapsed": 490,
     "status": "ok",
     "timestamp": 1652934138347,
     "user": {
      "displayName": "Ana Clara Mioto",
      "userId": "02280775085590012326"
     },
     "user_tz": 180
    },
    "id": "PZ98-642QERQ",
    "outputId": "effcd349-a5cd-4d6b-a40f-48819638ce70"
   },
   "outputs": [
    {
     "data": {
      "image/png": "[encoded data removed]",
      "text/plain": [
       "<Figure size 432x288 with 1 Axes>"
      ]
     },
     "metadata": {
      "needs_background": "light"
     },
     "output_type": "display_data"
    }
   ],
   "source": [
    "#variável target está desbalanceada\n",
    "import seaborn as sns\n",
    "%matplotlib inline\n",
    "ax = sns.countplot(x='Churn', data=dados_final)"
   ]
  },
  {
   "cell_type": "code",
   "execution_count": 12,
   "metadata": {
    "colab": {
     "base_uri": "https://localhost:8080/"
    },
    "executionInfo": {
     "elapsed": 5,
     "status": "ok",
     "timestamp": 1652934138348,
     "user": {
      "displayName": "Ana Clara Mioto",
      "userId": "02280775085590012326"
     },
     "user_tz": 180
    },
    "id": "tDmNwxUGQt0U",
    "outputId": "05e18b50-1db7-4ba9-b26f-0991fa0ff739"
   },
   "outputs": [
    {
     "data": {
      "text/plain": [
       "0    5174\n",
       "1    1869\n",
       "Name: Churn, dtype: int64"
      ]
     },
     "execution_count": 12,
     "metadata": {},
     "output_type": "execute_result"
    }
   ],
   "source": [
    "dados_final.Churn.value_counts()"
   ]
  },
  {
   "cell_type": "code",
   "execution_count": 13,
   "metadata": {
    "executionInfo": {
     "elapsed": 700,
     "status": "ok",
     "timestamp": 1652934139044,
     "user": {
      "displayName": "Ana Clara Mioto",
      "userId": "02280775085590012326"
     },
     "user_tz": 180
    },
    "id": "TcFY4SXuZyIO"
   },
   "outputs": [],
   "source": [
    "# biblioteca para balancear os dados utilizando over_sampling\n",
    "from imblearn.over_sampling import SMOTE"
   ]
  },
  {
   "cell_type": "code",
   "execution_count": 14,
   "metadata": {
    "executionInfo": {
     "elapsed": 5,
     "status": "ok",
     "timestamp": 1652934139044,
     "user": {
      "displayName": "Ana Clara Mioto",
      "userId": "02280775085590012326"
     },
     "user_tz": 180
    },
    "id": "0-I2aDVhQUdu"
   },
   "outputs": [],
   "source": [
    "# dividindo os dados em caracteristicas e target\n",
    "X = dados_final.drop('Churn', axis = 1)\n",
    "y = dados_final['Churn']"
   ]
  },
  {
   "cell_type": "code",
   "execution_count": 15,
   "metadata": {
    "executionInfo": {
     "elapsed": 243,
     "status": "ok",
     "timestamp": 1652934139283,
     "user": {
      "displayName": "Ana Clara Mioto",
      "userId": "02280775085590012326"
     },
     "user_tz": 180
    },
    "id": "5lIY03boZyBN"
   },
   "outputs": [],
   "source": [
    "smt = SMOTE(random_state=123)\n",
    "X, y = smt.fit_resample(X, y)"
   ]
  },
  {
   "cell_type": "code",
   "execution_count": 16,
   "metadata": {
    "executionInfo": {
     "elapsed": 11,
     "status": "ok",
     "timestamp": 1652934139284,
     "user": {
      "displayName": "Ana Clara Mioto",
      "userId": "02280775085590012326"
     },
     "user_tz": 180
    },
    "id": "bnlqzLVUZl0u"
   },
   "outputs": [],
   "source": [
    "# junção dos dados balanceados\n",
    "dados_final = pd.concat([X, y], axis=1)"
   ]
  },
  {
   "cell_type": "code",
   "execution_count": 17,
   "metadata": {
    "colab": {
     "base_uri": "https://localhost:8080/",
     "height": 0
    },
    "executionInfo": {
     "elapsed": 10,
     "status": "ok",
     "timestamp": 1652934139284,
     "user": {
      "displayName": "Ana Clara Mioto",
      "userId": "02280775085590012326"
     },
     "user_tz": 180
    },
    "id": "GQj3bEEOZ42e",
    "outputId": "a0caee8f-cfa7-4c10-9260-a3e3dcd92857"
   },
   "outputs": [
    {
     "data": {
      "text/html": [
       "<div>\n",
       "<style scoped>\n",
       "    .dataframe tbody tr th:only-of-type {\n",
       "        vertical-align: middle;\n",
       "    }\n",
       "\n",
       "    .dataframe tbody tr th {\n",
       "        vertical-align: top;\n",
       "    }\n",
       "\n",
       "    .dataframe thead th {\n",
       "        text-align: right;\n",
       "    }\n",
       "</style>\n",
       "<table border=\"1\" class=\"dataframe\">\n",
       "  <thead>\n",
       "    <tr style=\"text-align: right;\">\n",
       "      <th></th>\n",
       "      <th>Conjuge</th>\n",
       "      <th>Dependentes</th>\n",
       "      <th>TelefoneFixo</th>\n",
       "      <th>PagamentoOnline</th>\n",
       "      <th>Maior65Anos</th>\n",
       "      <th>MesesDeContrato</th>\n",
       "      <th>ContaMensal</th>\n",
       "      <th>VariasLinhasTelefonicas_Nao</th>\n",
       "      <th>VariasLinhasTelefonicas_SemServicoTelefonico</th>\n",
       "      <th>VariasLinhasTelefonicas_Sim</th>\n",
       "      <th>...</th>\n",
       "      <th>StreamingDeFilmes_SemServicoDeInternet</th>\n",
       "      <th>StreamingDeFilmes_Sim</th>\n",
       "      <th>TipoDeContrato_DoisAnos</th>\n",
       "      <th>TipoDeContrato_Mensalmente</th>\n",
       "      <th>TipoDeContrato_UmAno</th>\n",
       "      <th>FormaDePagamento_CartaoDeCredito</th>\n",
       "      <th>FormaDePagamento_ChequeDigital</th>\n",
       "      <th>FormaDePagamento_ChequePapel</th>\n",
       "      <th>FormaDePagamento_DebitoEmConta</th>\n",
       "      <th>Churn</th>\n",
       "    </tr>\n",
       "  </thead>\n",
       "  <tbody>\n",
       "    <tr>\n",
       "      <th>0</th>\n",
       "      <td>1</td>\n",
       "      <td>0</td>\n",
       "      <td>0</td>\n",
       "      <td>1</td>\n",
       "      <td>0</td>\n",
       "      <td>1</td>\n",
       "      <td>29.85</td>\n",
       "      <td>0</td>\n",
       "      <td>1</td>\n",
       "      <td>0</td>\n",
       "      <td>...</td>\n",
       "      <td>0</td>\n",
       "      <td>0</td>\n",
       "      <td>0</td>\n",
       "      <td>1</td>\n",
       "      <td>0</td>\n",
       "      <td>0</td>\n",
       "      <td>1</td>\n",
       "      <td>0</td>\n",
       "      <td>0</td>\n",
       "      <td>0</td>\n",
       "    </tr>\n",
       "    <tr>\n",
       "      <th>1</th>\n",
       "      <td>0</td>\n",
       "      <td>0</td>\n",
       "      <td>1</td>\n",
       "      <td>0</td>\n",
       "      <td>0</td>\n",
       "      <td>34</td>\n",
       "      <td>56.95</td>\n",
       "      <td>1</td>\n",
       "      <td>0</td>\n",
       "      <td>0</td>\n",
       "      <td>...</td>\n",
       "      <td>0</td>\n",
       "      <td>0</td>\n",
       "      <td>0</td>\n",
       "      <td>0</td>\n",
       "      <td>1</td>\n",
       "      <td>0</td>\n",
       "      <td>0</td>\n",
       "      <td>1</td>\n",
       "      <td>0</td>\n",
       "      <td>0</td>\n",
       "    </tr>\n",
       "  </tbody>\n",
       "</table>\n",
       "<p>2 rows × 39 columns</p>\n",
       "</div>"
      ],
      "text/plain": [
       "   Conjuge  Dependentes  TelefoneFixo  PagamentoOnline  Maior65Anos  \\\n",
       "0        1            0             0                1            0   \n",
       "1        0            0             1                0            0   \n",
       "\n",
       "   MesesDeContrato  ContaMensal  VariasLinhasTelefonicas_Nao  \\\n",
       "0                1        29.85                            0   \n",
       "1               34        56.95                            1   \n",
       "\n",
       "   VariasLinhasTelefonicas_SemServicoTelefonico  VariasLinhasTelefonicas_Sim  \\\n",
       "0                                             1                            0   \n",
       "1                                             0                            0   \n",
       "\n",
       "   ...  StreamingDeFilmes_SemServicoDeInternet  StreamingDeFilmes_Sim  \\\n",
       "0  ...                                       0                      0   \n",
       "1  ...                                       0                      0   \n",
       "\n",
       "   TipoDeContrato_DoisAnos  TipoDeContrato_Mensalmente  TipoDeContrato_UmAno  \\\n",
       "0                        0                           1                     0   \n",
       "1                        0                           0                     1   \n",
       "\n",
       "   FormaDePagamento_CartaoDeCredito  FormaDePagamento_ChequeDigital  \\\n",
       "0                                 0                               1   \n",
       "1                                 0                               0   \n",
       "\n",
       "   FormaDePagamento_ChequePapel  FormaDePagamento_DebitoEmConta  Churn  \n",
       "0                             0                               0      0  \n",
       "1                             1                               0      0  \n",
       "\n",
       "[2 rows x 39 columns]"
      ]
     },
     "execution_count": 17,
     "metadata": {},
     "output_type": "execute_result"
    }
   ],
   "source": [
    "# verificação 1 - junção dos dados\n",
    "dados_final.head(2)"
   ]
  },
  {
   "cell_type": "code",
   "execution_count": 18,
   "metadata": {
    "colab": {
     "base_uri": "https://localhost:8080/",
     "height": 0
    },
    "executionInfo": {
     "elapsed": 453,
     "status": "ok",
     "timestamp": 1652934139732,
     "user": {
      "displayName": "Ana Clara Mioto",
      "userId": "02280775085590012326"
     },
     "user_tz": 180
    },
    "id": "jSzaHOlyZ7r-",
    "outputId": "ab7037ba-022f-4091-a9b2-cafbec5ea7e7"
   },
   "outputs": [
    {
     "data": {
      "image/png": "[encoded data removed]",
      "text/plain": [
       "<Figure size 432x288 with 1 Axes>"
      ]
     },
     "metadata": {
      "needs_background": "light"
     },
     "output_type": "display_data"
    }
   ],
   "source": [
    "# verificação 2 - balanceamento\n",
    "ax = sns.countplot(x='Churn', data=dados_final)"
   ]
  },
  {
   "cell_type": "code",
   "execution_count": 19,
   "metadata": {
    "colab": {
     "base_uri": "https://localhost:8080/"
    },
    "executionInfo": {
     "elapsed": 15,
     "status": "ok",
     "timestamp": 1652934139732,
     "user": {
      "displayName": "Ana Clara Mioto",
      "userId": "02280775085590012326"
     },
     "user_tz": 180
    },
    "id": "Zx0HYHd3RGl7",
    "outputId": "a89570d4-2f64-477b-d3ec-01cd5e1eefb8"
   },
   "outputs": [
    {
     "data": {
      "text/plain": [
       "0    5174\n",
       "1    5174\n",
       "Name: Churn, dtype: int64"
      ]
     },
     "execution_count": 19,
     "metadata": {},
     "output_type": "execute_result"
    }
   ],
   "source": [
    "dados_final.Churn.value_counts()"
   ]
  },
  {
   "cell_type": "markdown",
   "metadata": {
    "id": "MvIfmyE2ckVV"
   },
   "source": [
    "##### Como funciona o algoritmo de KNN"
   ]
  },
  {
   "cell_type": "code",
   "execution_count": 20,
   "metadata": {
    "executionInfo": {
     "elapsed": 13,
     "status": "ok",
     "timestamp": 1652934139733,
     "user": {
      "displayName": "Ana Clara Mioto",
      "userId": "02280775085590012326"
     },
     "user_tz": 180
    },
    "id": "h0re3ABxjlLW"
   },
   "outputs": [],
   "source": [
    "# Divisão em inputs e outputs\n",
    "X = dados_final.drop('Churn', axis = 1)\n",
    "y = dados_final['Churn']"
   ]
  },
  {
   "cell_type": "code",
   "execution_count": 21,
   "metadata": {
    "executionInfo": {
     "elapsed": 13,
     "status": "ok",
     "timestamp": 1652934139733,
     "user": {
      "displayName": "Ana Clara Mioto",
      "userId": "02280775085590012326"
     },
     "user_tz": 180
    },
    "id": "cw_-29nlkLMV"
   },
   "outputs": [],
   "source": [
    "# biblioteca para padronizar os dados\n",
    "from sklearn.preprocessing import StandardScaler"
   ]
  },
  {
   "cell_type": "code",
   "execution_count": 22,
   "metadata": {
    "colab": {
     "base_uri": "https://localhost:8080/"
    },
    "executionInfo": {
     "elapsed": 14,
     "status": "ok",
     "timestamp": 1652934139734,
     "user": {
      "displayName": "Ana Clara Mioto",
      "userId": "02280775085590012326"
     },
     "user_tz": 180
    },
    "id": "zGYhtla_kgpd",
    "outputId": "9ce482bf-b92d-44f5-d7c6-bed901c3aca4"
   },
   "outputs": [
    {
     "data": {
      "text/plain": [
       "array([[ 1.26542767, -0.52756038, -3.06083934, ...,  1.30292044,\n",
       "        -0.47943196, -0.43617215],\n",
       "       [-0.79024667, -0.52756038,  0.32670777, ..., -0.76750657,\n",
       "         2.08580171, -0.43617215],\n",
       "       [-0.79024667, -0.52756038,  0.32670777, ..., -0.76750657,\n",
       "         2.08580171, -0.43617215],\n",
       "       ...,\n",
       "       [-0.79024667, -0.52756038,  0.32670777, ...,  1.30292044,\n",
       "        -0.47943196, -0.43617215],\n",
       "       [-0.79024667, -0.52756038,  0.32670777, ..., -0.76750657,\n",
       "        -0.47943196, -0.43617215],\n",
       "       [-0.79024667, -0.52756038,  0.32670777, ..., -0.76750657,\n",
       "        -0.47943196, -0.43617215]])"
      ]
     },
     "execution_count": 22,
     "metadata": {},
     "output_type": "execute_result"
    }
   ],
   "source": [
    "norm = StandardScaler()\n",
    "\n",
    "X_normalizado = norm.fit_transform(X)\n",
    "X_normalizado"
   ]
  },
  {
   "cell_type": "code",
   "execution_count": 23,
   "metadata": {
    "colab": {
     "base_uri": "https://localhost:8080/"
    },
    "executionInfo": {
     "elapsed": 12,
     "status": "ok",
     "timestamp": 1652934139734,
     "user": {
      "displayName": "Ana Clara Mioto",
      "userId": "02280775085590012326"
     },
     "user_tz": 180
    },
    "id": "Cs-ivgv7qsKL",
    "outputId": "100c3de8-33c7-45d2-a671-33f4b72a4695"
   },
   "outputs": [
    {
     "data": {
      "text/plain": [
       "array([ 1.26542767, -0.52756038, -3.06083934,  0.8149851 , -0.41334384,\n",
       "       -1.10768354, -1.32176205, -0.88482108,  3.18604176, -0.83366906,\n",
       "        1.51268338, -1.04386816, -0.44617598,  0.868102  , -0.44617598,\n",
       "       -0.5173695 , -0.95871762, -0.44617598,  1.57389661,  1.04326198,\n",
       "       -0.44617598, -0.64211419,  0.87997069, -0.44617598, -0.52426638,\n",
       "        1.18643645, -0.44617598, -0.77707385,  1.2033586 , -0.44617598,\n",
       "       -0.78992399, -0.44648735,  0.73773107, -0.41989297, -0.42576817,\n",
       "        1.30292044, -0.47943196, -0.43617215])"
      ]
     },
     "execution_count": 23,
     "metadata": {},
     "output_type": "execute_result"
    }
   ],
   "source": [
    "X_normalizado[0]"
   ]
  },
  {
   "cell_type": "code",
   "execution_count": 24,
   "metadata": {
    "colab": {
     "base_uri": "https://localhost:8080/"
    },
    "executionInfo": {
     "elapsed": 11,
     "status": "ok",
     "timestamp": 1652934139734,
     "user": {
      "displayName": "Ana Clara Mioto",
      "userId": "02280775085590012326"
     },
     "user_tz": 180
    },
    "id": "Ll6FnFO-kosd",
    "outputId": "1ef0ba4e-e962-45fa-fae8-746a20d7c157"
   },
   "outputs": [
    {
     "data": {
      "text/plain": [
       "array([[-0.79024667, -0.52756038,  0.32670777,  0.8149851 , -0.41334384,\n",
       "        -1.14934709, -0.97235471,  1.13017199, -0.31386908, -0.83366906,\n",
       "        -0.66107688,  0.95797538, -0.44617598,  0.868102  , -0.44617598,\n",
       "        -0.5173695 , -0.95871762, -0.44617598,  1.57389661,  1.04326198,\n",
       "         2.24126814, -0.64211419, -1.13640148,  2.24126814, -0.52426638,\n",
       "         1.18643645, -0.44617598, -0.77707385, -0.83100748, -0.44617598,\n",
       "         1.26594459, -0.44648735, -1.35550751,  2.38155929, -0.42576817,\n",
       "        -0.76750657, -0.47943196,  2.29267273]])"
      ]
     },
     "execution_count": 24,
     "metadata": {},
     "output_type": "execute_result"
    }
   ],
   "source": [
    "Xmaria_normalizado = norm.transform(pd.DataFrame(Xmaria, columns = X.columns))\n",
    "Xmaria_normalizado"
   ]
  },
  {
   "cell_type": "markdown",
   "metadata": {
    "id": "pgU6OxezlB_F"
   },
   "source": [
    "Distância Euclidiana:\n",
    "\n",
    "$$\\sqrt{\\sum_{i=1}^k(a_{i}-b_{i})^2}$$"
   ]
  },
  {
   "cell_type": "code",
   "execution_count": 25,
   "metadata": {
    "executionInfo": {
     "elapsed": 10,
     "status": "ok",
     "timestamp": 1652934139734,
     "user": {
      "displayName": "Ana Clara Mioto",
      "userId": "02280775085590012326"
     },
     "user_tz": 180
    },
    "id": "SbxwDdiIk36F"
   },
   "outputs": [],
   "source": [
    "import numpy as np"
   ]
  },
  {
   "cell_type": "code",
   "execution_count": 26,
   "metadata": {
    "executionInfo": {
     "elapsed": 10,
     "status": "ok",
     "timestamp": 1652934139735,
     "user": {
      "displayName": "Ana Clara Mioto",
      "userId": "02280775085590012326"
     },
     "user_tz": 180
    },
    "id": "9oywjidemxXl"
   },
   "outputs": [],
   "source": [
    "a = Xmaria_normalizado"
   ]
  },
  {
   "cell_type": "code",
   "execution_count": 27,
   "metadata": {
    "executionInfo": {
     "elapsed": 10,
     "status": "ok",
     "timestamp": 1652934139735,
     "user": {
      "displayName": "Ana Clara Mioto",
      "userId": "02280775085590012326"
     },
     "user_tz": 180
    },
    "id": "JL85j369li4d"
   },
   "outputs": [],
   "source": [
    "b = X_normalizado[0]"
   ]
  },
  {
   "cell_type": "code",
   "execution_count": 28,
   "metadata": {
    "colab": {
     "base_uri": "https://localhost:8080/"
    },
    "executionInfo": {
     "elapsed": 10,
     "status": "ok",
     "timestamp": 1652934139735,
     "user": {
      "displayName": "Ana Clara Mioto",
      "userId": "02280775085590012326"
     },
     "user_tz": 180
    },
    "id": "mmhEqixanDgF",
    "outputId": "7efb3053-ca9e-4e32-9701-c0290843dfa1"
   },
   "outputs": [
    {
     "data": {
      "text/plain": [
       "array([[-2.05567434,  0.        ,  3.38754711,  0.        ,  0.        ,\n",
       "        -0.04166355,  0.34940734,  2.01499307, -3.49991084,  0.        ,\n",
       "        -2.17376025,  2.00184354,  0.        ,  0.        ,  0.        ,\n",
       "         0.        ,  0.        ,  0.        ,  0.        ,  0.        ,\n",
       "         2.68744412,  0.        , -2.01637218,  2.68744412,  0.        ,\n",
       "         0.        ,  0.        ,  0.        , -2.03436608,  0.        ,\n",
       "         2.05586858,  0.        , -2.09323857,  2.80145225,  0.        ,\n",
       "        -2.07042701,  0.        ,  2.72884488]])"
      ]
     },
     "execution_count": 28,
     "metadata": {},
     "output_type": "execute_result"
    }
   ],
   "source": [
    "# 1 - começamos subtraindo \n",
    "a - b"
   ]
  },
  {
   "cell_type": "code",
   "execution_count": 29,
   "metadata": {
    "colab": {
     "base_uri": "https://localhost:8080/"
    },
    "executionInfo": {
     "elapsed": 9,
     "status": "ok",
     "timestamp": 1652934139735,
     "user": {
      "displayName": "Ana Clara Mioto",
      "userId": "02280775085590012326"
     },
     "user_tz": 180
    },
    "id": "_aBlq3wPnF49",
    "outputId": "535f2626-6f3c-47c0-a939-298aa6498ebd"
   },
   "outputs": [
    {
     "data": {
      "text/plain": [
       "array([[4.22579699e+00, 0.00000000e+00, 1.14754754e+01, 0.00000000e+00,\n",
       "        0.00000000e+00, 1.73585140e-03, 1.22085486e-01, 4.06019707e+00,\n",
       "        1.22493759e+01, 0.00000000e+00, 4.72523363e+00, 4.00737757e+00,\n",
       "        0.00000000e+00, 0.00000000e+00, 0.00000000e+00, 0.00000000e+00,\n",
       "        0.00000000e+00, 0.00000000e+00, 0.00000000e+00, 0.00000000e+00,\n",
       "        7.22235589e+00, 0.00000000e+00, 4.06575675e+00, 7.22235589e+00,\n",
       "        0.00000000e+00, 0.00000000e+00, 0.00000000e+00, 0.00000000e+00,\n",
       "        4.13864535e+00, 0.00000000e+00, 4.22659561e+00, 0.00000000e+00,\n",
       "        4.38164773e+00, 7.84813473e+00, 0.00000000e+00, 4.28666801e+00,\n",
       "        0.00000000e+00, 7.44659439e+00]])"
      ]
     },
     "execution_count": 29,
     "metadata": {},
     "output_type": "execute_result"
    }
   ],
   "source": [
    "# 2 - depois realizamos a exponenciação\n",
    "np.square(a-b)"
   ]
  },
  {
   "cell_type": "code",
   "execution_count": 30,
   "metadata": {
    "colab": {
     "base_uri": "https://localhost:8080/"
    },
    "executionInfo": {
     "elapsed": 289,
     "status": "ok",
     "timestamp": 1652934140016,
     "user": {
      "displayName": "Ana Clara Mioto",
      "userId": "02280775085590012326"
     },
     "user_tz": 180
    },
    "id": "_bDEeU_znIxH",
    "outputId": "4a4f82a2-b628-42a5-9b1e-661d36c11922"
   },
   "outputs": [
    {
     "data": {
      "text/plain": [
       "91.70603225977928"
      ]
     },
     "execution_count": 30,
     "metadata": {},
     "output_type": "execute_result"
    }
   ],
   "source": [
    "# 3 - a soma \n",
    "np.sum(np.square(a-b))"
   ]
  },
  {
   "cell_type": "code",
   "execution_count": 31,
   "metadata": {
    "colab": {
     "base_uri": "https://localhost:8080/"
    },
    "executionInfo": {
     "elapsed": 15,
     "status": "ok",
     "timestamp": 1652934140016,
     "user": {
      "displayName": "Ana Clara Mioto",
      "userId": "02280775085590012326"
     },
     "user_tz": 180
    },
    "id": "o9NJQSP-nMUm",
    "outputId": "cbb125fe-b758-45b2-a6c5-50ad4c14c37f"
   },
   "outputs": [
    {
     "data": {
      "text/plain": [
       "9.576326657950807"
      ]
     },
     "execution_count": 31,
     "metadata": {},
     "output_type": "execute_result"
    }
   ],
   "source": [
    "# 4 - então tiramos a raiz e temos nossa distância\n",
    "np.sqrt(91.70603225977928)"
   ]
  },
  {
   "cell_type": "markdown",
   "metadata": {
    "id": "_h0pFQfxwYW-"
   },
   "source": [
    "##### Implementação do modelo"
   ]
  },
  {
   "cell_type": "code",
   "execution_count": 32,
   "metadata": {
    "executionInfo": {
     "elapsed": 12,
     "status": "ok",
     "timestamp": 1652934140017,
     "user": {
      "displayName": "Ana Clara Mioto",
      "userId": "02280775085590012326"
     },
     "user_tz": 180
    },
    "id": "XtvZ-tMiwjN2"
   },
   "outputs": [],
   "source": [
    "#biblioteca para divisão dos dados\n",
    "from sklearn.model_selection import train_test_split"
   ]
  },
  {
   "cell_type": "code",
   "execution_count": 33,
   "metadata": {
    "executionInfo": {
     "elapsed": 11,
     "status": "ok",
     "timestamp": 1652934140017,
     "user": {
      "displayName": "Ana Clara Mioto",
      "userId": "02280775085590012326"
     },
     "user_tz": 180
    },
    "id": "lWaKqJrTwxE-"
   },
   "outputs": [],
   "source": [
    "X_treino, X_teste, y_treino, y_teste = train_test_split(X_normalizado, y, test_size=0.3, random_state=123)"
   ]
  },
  {
   "cell_type": "code",
   "execution_count": 34,
   "metadata": {
    "executionInfo": {
     "elapsed": 12,
     "status": "ok",
     "timestamp": 1652934140018,
     "user": {
      "displayName": "Ana Clara Mioto",
      "userId": "02280775085590012326"
     },
     "user_tz": 180
    },
    "id": "g6-t-BpEwy3G"
   },
   "outputs": [],
   "source": [
    "# biblioteca para criarmos o modelo de machine learning\n",
    "from sklearn.neighbors import KNeighborsClassifier"
   ]
  },
  {
   "cell_type": "code",
   "execution_count": 35,
   "metadata": {
    "executionInfo": {
     "elapsed": 11,
     "status": "ok",
     "timestamp": 1652934140018,
     "user": {
      "displayName": "Ana Clara Mioto",
      "userId": "02280775085590012326"
     },
     "user_tz": 180
    },
    "id": "qFs4VHnhw4-O"
   },
   "outputs": [],
   "source": [
    "# instanciar o modelo (criamos o modelo) - por padrão são 5 vizinhos  \n",
    "knn = KNeighborsClassifier(metric='euclidean')"
   ]
  },
  {
   "cell_type": "code",
   "execution_count": 36,
   "metadata": {
    "colab": {
     "base_uri": "https://localhost:8080/"
    },
    "executionInfo": {
     "elapsed": 10,
     "status": "ok",
     "timestamp": 1652934140018,
     "user": {
      "displayName": "Ana Clara Mioto",
      "userId": "02280775085590012326"
     },
     "user_tz": 180
    },
    "id": "H05zbtgIw6gt",
    "outputId": "59679cd7-37cd-4885-cc00-4903d7529bd3"
   },
   "outputs": [
    {
     "data": {
      "text/plain": [
       "KNeighborsClassifier(metric='euclidean')"
      ]
     },
     "execution_count": 36,
     "metadata": {},
     "output_type": "execute_result"
    }
   ],
   "source": [
    "# treinando o modelo com os dados de treino\n",
    "knn.fit(X_treino, y_treino)"
   ]
  },
  {
   "cell_type": "code",
   "execution_count": 37,
   "metadata": {
    "executionInfo": {
     "elapsed": 676,
     "status": "ok",
     "timestamp": 1652934140688,
     "user": {
      "displayName": "Ana Clara Mioto",
      "userId": "02280775085590012326"
     },
     "user_tz": 180
    },
    "id": "2LrZiJbvw-Mf"
   },
   "outputs": [],
   "source": [
    "# testando o modelo com os dados de teste\n",
    "predito_knn = knn.predict(X_teste)"
   ]
  },
  {
   "cell_type": "code",
   "execution_count": 38,
   "metadata": {
    "colab": {
     "base_uri": "https://localhost:8080/"
    },
    "executionInfo": {
     "elapsed": 13,
     "status": "ok",
     "timestamp": 1652934140688,
     "user": {
      "displayName": "Ana Clara Mioto",
      "userId": "02280775085590012326"
     },
     "user_tz": 180
    },
    "id": "dirCpdIO1MZ9",
    "outputId": "3acd541b-075c-4c77-e2f8-526ee4c96a53"
   },
   "outputs": [
    {
     "data": {
      "text/plain": [
       "array([1, 0, 0, ..., 0, 1, 1], dtype=int64)"
      ]
     },
     "execution_count": 38,
     "metadata": {},
     "output_type": "execute_result"
    }
   ],
   "source": [
    "predito_knn"
   ]
  },
  {
   "cell_type": "markdown",
   "metadata": {
    "id": "EKHFh1Pr7G40"
   },
   "source": [
    "#### Como funciona o modelo de Bernoulli Naive Bayes"
   ]
  },
  {
   "cell_type": "code",
   "execution_count": 39,
   "metadata": {
    "executionInfo": {
     "elapsed": 9,
     "status": "ok",
     "timestamp": 1652934140689,
     "user": {
      "displayName": "Ana Clara Mioto",
      "userId": "02280775085590012326"
     },
     "user_tz": 180
    },
    "id": "vV4i1JC37xJN"
   },
   "outputs": [],
   "source": [
    "# biblioteca para criarmos o modelo de machine learning\n",
    "from sklearn.naive_bayes import BernoulliNB"
   ]
  },
  {
   "cell_type": "code",
   "execution_count": 40,
   "metadata": {
    "executionInfo": {
     "elapsed": 9,
     "status": "ok",
     "timestamp": 1652934140689,
     "user": {
      "displayName": "Ana Clara Mioto",
      "userId": "02280775085590012326"
     },
     "user_tz": 180
    },
    "id": "KnTnDve07ylb"
   },
   "outputs": [],
   "source": [
    "# criamos o modelo\n",
    "bnb = BernoulliNB(binarize=-0.44)"
   ]
  },
  {
   "cell_type": "code",
   "execution_count": 41,
   "metadata": {
    "colab": {
     "base_uri": "https://localhost:8080/"
    },
    "executionInfo": {
     "elapsed": 9,
     "status": "ok",
     "timestamp": 1652934140689,
     "user": {
      "displayName": "Ana Clara Mioto",
      "userId": "02280775085590012326"
     },
     "user_tz": 180
    },
    "id": "AEzm1GSZ7tZZ",
    "outputId": "32de87f1-a895-431d-f6a8-600109a78ec5"
   },
   "outputs": [
    {
     "data": {
      "text/plain": [
       "-0.4461759755508453"
      ]
     },
     "execution_count": 41,
     "metadata": {},
     "output_type": "execute_result"
    }
   ],
   "source": [
    "# escolho utilizar mediana, porque é o valor central dos nossos dados ordenados\n",
    "np.median(X_treino)"
   ]
  },
  {
   "cell_type": "code",
   "execution_count": 42,
   "metadata": {
    "colab": {
     "base_uri": "https://localhost:8080/"
    },
    "executionInfo": {
     "elapsed": 7,
     "status": "ok",
     "timestamp": 1652934140689,
     "user": {
      "displayName": "Ana Clara Mioto",
      "userId": "02280775085590012326"
     },
     "user_tz": 180
    },
    "id": "e5HdbyA27cUJ",
    "outputId": "41ca216f-2b25-43f9-e507-a8dd8d3f4571"
   },
   "outputs": [
    {
     "data": {
      "text/plain": [
       "array([[-0.79024667, -0.52756038, -3.06083934, ..., -0.76750657,\n",
       "         2.08580171, -0.43617215],\n",
       "       [ 1.26542767,  1.89551764,  0.32670777, ..., -0.76750657,\n",
       "         2.08580171, -0.43617215],\n",
       "       [-0.79024667, -0.52756038,  0.32670777, ...,  1.30292044,\n",
       "        -0.47943196, -0.43617215],\n",
       "       ...,\n",
       "       [ 1.26542767,  1.89551764,  0.32670777, ..., -0.76750657,\n",
       "         2.08580171, -0.43617215],\n",
       "       [ 1.26542767,  1.89551764,  0.32670777, ...,  1.30292044,\n",
       "        -0.47943196, -0.43617215],\n",
       "       [-0.79024667, -0.52756038,  0.32670777, ...,  1.30292044,\n",
       "        -0.47943196, -0.43617215]])"
      ]
     },
     "execution_count": 42,
     "metadata": {},
     "output_type": "execute_result"
    }
   ],
   "source": [
    "X_treino"
   ]
  },
  {
   "cell_type": "code",
   "execution_count": 43,
   "metadata": {
    "colab": {
     "base_uri": "https://localhost:8080/"
    },
    "executionInfo": {
     "elapsed": 6,
     "status": "ok",
     "timestamp": 1652934140689,
     "user": {
      "displayName": "Ana Clara Mioto",
      "userId": "02280775085590012326"
     },
     "user_tz": 180
    },
    "id": "HevdnXNV7rPg",
    "outputId": "acaeb6b2-b82b-4340-c917-db9059a9f906"
   },
   "outputs": [
    {
     "data": {
      "text/plain": [
       "4831    0\n",
       "5077    0\n",
       "9023    1\n",
       "4424    1\n",
       "5236    0\n",
       "       ..\n",
       "9785    1\n",
       "7763    1\n",
       "5218    0\n",
       "1346    1\n",
       "3582    0\n",
       "Name: Churn, Length: 7243, dtype: int64"
      ]
     },
     "execution_count": 43,
     "metadata": {},
     "output_type": "execute_result"
    }
   ],
   "source": [
    "y_treino"
   ]
  },
  {
   "cell_type": "code",
   "execution_count": 44,
   "metadata": {
    "colab": {
     "base_uri": "https://localhost:8080/"
    },
    "executionInfo": {
     "elapsed": 5,
     "status": "ok",
     "timestamp": 1652934140689,
     "user": {
      "displayName": "Ana Clara Mioto",
      "userId": "02280775085590012326"
     },
     "user_tz": 180
    },
    "id": "qIIT0uX273SN",
    "outputId": "690b80ba-8543-4b97-cad4-82c7e6ee156f"
   },
   "outputs": [
    {
     "data": {
      "text/plain": [
       "BernoulliNB(binarize=-0.44)"
      ]
     },
     "execution_count": 44,
     "metadata": {},
     "output_type": "execute_result"
    }
   ],
   "source": [
    "# treinar o modelo\n",
    "bnb.fit(X_treino, y_treino)"
   ]
  },
  {
   "cell_type": "code",
   "execution_count": 45,
   "metadata": {
    "executionInfo": {
     "elapsed": 5,
     "status": "ok",
     "timestamp": 1652934140690,
     "user": {
      "displayName": "Ana Clara Mioto",
      "userId": "02280775085590012326"
     },
     "user_tz": 180
    },
    "id": "BpCOWhx674G6"
   },
   "outputs": [],
   "source": [
    "# testar o modelo\n",
    "predito_BNb = bnb.predict(X_teste)"
   ]
  },
  {
   "cell_type": "code",
   "execution_count": 46,
   "metadata": {
    "colab": {
     "base_uri": "https://localhost:8080/"
    },
    "executionInfo": {
     "elapsed": 5,
     "status": "ok",
     "timestamp": 1652934140690,
     "user": {
      "displayName": "Ana Clara Mioto",
      "userId": "02280775085590012326"
     },
     "user_tz": 180
    },
    "id": "KIS6Syvf79ou",
    "outputId": "637d4e84-0735-45d9-ba4d-0e1c48212838"
   },
   "outputs": [
    {
     "data": {
      "text/plain": [
       "array([1, 0, 0, ..., 1, 1, 1], dtype=int64)"
      ]
     },
     "execution_count": 46,
     "metadata": {},
     "output_type": "execute_result"
    }
   ],
   "source": [
    "predito_BNb"
   ]
  },
  {
   "cell_type": "markdown",
   "metadata": {
    "id": "I0QZ6_rY00NG"
   },
   "source": [
    "#### Como funciona o modelo de árvore de decisão"
   ]
  },
  {
   "cell_type": "code",
   "execution_count": 47,
   "metadata": {
    "executionInfo": {
     "elapsed": 243,
     "status": "ok",
     "timestamp": 1652937549606,
     "user": {
      "displayName": "Ana Clara Mioto",
      "userId": "02280775085590012326"
     },
     "user_tz": 180
    },
    "id": "VZBVqKxE2i10"
   },
   "outputs": [],
   "source": [
    "# biblioteca para criarmos o modelo de machine learning\n",
    "from sklearn.tree import DecisionTreeClassifier"
   ]
  },
  {
   "cell_type": "code",
   "execution_count": 48,
   "metadata": {
    "executionInfo": {
     "elapsed": 248,
     "status": "ok",
     "timestamp": 1652937655307,
     "user": {
      "displayName": "Ana Clara Mioto",
      "userId": "02280775085590012326"
     },
     "user_tz": 180
    },
    "id": "AR0fPU6qsPmg"
   },
   "outputs": [],
   "source": [
    "# instanciando o modelo\n",
    "dtc = DecisionTreeClassifier(criterion='entropy', random_state=42)"
   ]
  },
  {
   "cell_type": "code",
   "execution_count": 49,
   "metadata": {
    "colab": {
     "base_uri": "https://localhost:8080/"
    },
    "executionInfo": {
     "elapsed": 258,
     "status": "ok",
     "timestamp": 1652937672155,
     "user": {
      "displayName": "Ana Clara Mioto",
      "userId": "02280775085590012326"
     },
     "user_tz": 180
    },
    "id": "zG5vDatzsV7D",
    "outputId": "227d16bf-7714-449c-f9a8-a8bef13949f7"
   },
   "outputs": [
    {
     "data": {
      "text/plain": [
       "DecisionTreeClassifier(criterion='entropy', random_state=42)"
      ]
     },
     "execution_count": 49,
     "metadata": {},
     "output_type": "execute_result"
    }
   ],
   "source": [
    "# treinar o modelo\n",
    "dtc.fit(X_treino, y_treino)"
   ]
  },
  {
   "cell_type": "code",
   "execution_count": 50,
   "metadata": {
    "colab": {
     "base_uri": "https://localhost:8080/"
    },
    "executionInfo": {
     "elapsed": 244,
     "status": "ok",
     "timestamp": 1652937709430,
     "user": {
      "displayName": "Ana Clara Mioto",
      "userId": "02280775085590012326"
     },
     "user_tz": 180
    },
    "id": "Gx2S564TiNqI",
    "outputId": "48d30261-2882-4724-d186-2612b42df33d"
   },
   "outputs": [
    {
     "data": {
      "text/plain": [
       "array([0.02100894, 0.01395648, 0.0068095 , 0.01987306, 0.01892071,\n",
       "       0.16274644, 0.22207834, 0.00929414, 0.00344576, 0.01033768,\n",
       "       0.0019815 , 0.03131262, 0.00065123, 0.00849934, 0.        ,\n",
       "       0.01698366, 0.00622973, 0.        , 0.00964718, 0.01267467,\n",
       "       0.00027769, 0.00770208, 0.01306512, 0.00368329, 0.02048744,\n",
       "       0.00371587, 0.        , 0.00156955, 0.00671244, 0.0003825 ,\n",
       "       0.01126638, 0.03611651, 0.16384005, 0.07422263, 0.01760111,\n",
       "       0.02127213, 0.02182911, 0.01980513])"
      ]
     },
     "execution_count": 50,
     "metadata": {},
     "output_type": "execute_result"
    }
   ],
   "source": [
    "# verificar a importância de cada atributo\n",
    "dtc.feature_importances_"
   ]
  },
  {
   "cell_type": "code",
   "execution_count": 51,
   "metadata": {
    "executionInfo": {
     "elapsed": 233,
     "status": "ok",
     "timestamp": 1652937775139,
     "user": {
      "displayName": "Ana Clara Mioto",
      "userId": "02280775085590012326"
     },
     "user_tz": 180
    },
    "id": "1N3ogMwXsYLJ"
   },
   "outputs": [],
   "source": [
    "predito_ArvoreDecisao = dtc.predict(X_teste)"
   ]
  },
  {
   "cell_type": "code",
   "execution_count": 52,
   "metadata": {
    "colab": {
     "base_uri": "https://localhost:8080/"
    },
    "executionInfo": {
     "elapsed": 269,
     "status": "ok",
     "timestamp": 1652937784042,
     "user": {
      "displayName": "Ana Clara Mioto",
      "userId": "02280775085590012326"
     },
     "user_tz": 180
    },
    "id": "8yWcv1rCsbIT",
    "outputId": "de8f1e9a-5d7b-4b56-fa9e-27cd131c6f36"
   },
   "outputs": [
    {
     "data": {
      "text/plain": [
       "array([0, 0, 0, ..., 1, 1, 1], dtype=int64)"
      ]
     },
     "execution_count": 52,
     "metadata": {},
     "output_type": "execute_result"
    }
   ],
   "source": [
    "predito_ArvoreDecisao"
   ]
  },
  {
   "cell_type": "markdown",
   "metadata": {
    "id": "lfmj_l6ztF5J"
   },
   "source": [
    "#### Validação dos modelos"
   ]
  },
  {
   "cell_type": "code",
   "execution_count": 53,
   "metadata": {
    "executionInfo": {
     "elapsed": 280,
     "status": "ok",
     "timestamp": 1652940965357,
     "user": {
      "displayName": "Ana Clara Mioto",
      "userId": "02280775085590012326"
     },
     "user_tz": 180
    },
    "id": "dIhkghN1tM3d"
   },
   "outputs": [],
   "source": [
    "from sklearn.metrics import confusion_matrix"
   ]
  },
  {
   "cell_type": "code",
   "execution_count": 54,
   "metadata": {
    "colab": {
     "base_uri": "https://localhost:8080/"
    },
    "executionInfo": {
     "elapsed": 238,
     "status": "ok",
     "timestamp": 1652941022364,
     "user": {
      "displayName": "Ana Clara Mioto",
      "userId": "02280775085590012326"
     },
     "user_tz": 180
    },
    "id": "vy5vfPQ7mnmP",
    "outputId": "37e5c298-897d-4ecd-a3f5-713859ad41af"
   },
   "outputs": [
    {
     "name": "stdout",
     "output_type": "stream",
     "text": [
      "[[1241  328]\n",
      " [ 247 1289]]\n"
     ]
    }
   ],
   "source": [
    "print(confusion_matrix(y_teste, predito_knn))"
   ]
  },
  {
   "cell_type": "code",
   "execution_count": 55,
   "metadata": {
    "colab": {
     "base_uri": "https://localhost:8080/"
    },
    "executionInfo": {
     "elapsed": 245,
     "status": "ok",
     "timestamp": 1652941106688,
     "user": {
      "displayName": "Ana Clara Mioto",
      "userId": "02280775085590012326"
     },
     "user_tz": 180
    },
    "id": "Y_TkgT9pmnj3",
    "outputId": "5199e1bc-3a15-49e3-ca18-ccf720b3c803"
   },
   "outputs": [
    {
     "name": "stdout",
     "output_type": "stream",
     "text": [
      "[[1050  519]\n",
      " [ 242 1294]]\n"
     ]
    }
   ],
   "source": [
    "print(confusion_matrix(y_teste, predito_BNb))"
   ]
  },
  {
   "cell_type": "code",
   "execution_count": 56,
   "metadata": {
    "colab": {
     "base_uri": "https://localhost:8080/"
    },
    "executionInfo": {
     "elapsed": 235,
     "status": "ok",
     "timestamp": 1652941179888,
     "user": {
      "displayName": "Ana Clara Mioto",
      "userId": "02280775085590012326"
     },
     "user_tz": 180
    },
    "id": "hNAbk_Pimnhw",
    "outputId": "448ae2a9-8a67-44a8-94c5-22742391fb99"
   },
   "outputs": [
    {
     "name": "stdout",
     "output_type": "stream",
     "text": [
      "[[1249  320]\n",
      " [ 277 1259]]\n"
     ]
    }
   ],
   "source": [
    "print(confusion_matrix(y_teste, predito_ArvoreDecisao))"
   ]
  },
  {
   "cell_type": "markdown",
   "metadata": {
    "id": "sQb7vnC12XUf"
   },
   "source": [
    "#####  Acurácia\n",
    "A partir do calculo da matriz de confusão conseguimos inferir outras métricas, como por exemplo a acurária.\n",
    "\n",
    "\n",
    "\n",
    "\n",
    "$ACC$ = ${TP + TN \\over TP + FP + TN + FN}$"
   ]
  },
  {
   "cell_type": "code",
   "execution_count": 57,
   "metadata": {
    "executionInfo": {
     "elapsed": 219,
     "status": "ok",
     "timestamp": 1652941430435,
     "user": {
      "displayName": "Ana Clara Mioto",
      "userId": "02280775085590012326"
     },
     "user_tz": 180
    },
    "id": "Ng67mpWk2af1"
   },
   "outputs": [],
   "source": [
    "from sklearn.metrics import accuracy_score"
   ]
  },
  {
   "cell_type": "code",
   "execution_count": 58,
   "metadata": {
    "colab": {
     "base_uri": "https://localhost:8080/"
    },
    "executionInfo": {
     "elapsed": 311,
     "status": "ok",
     "timestamp": 1652941478000,
     "user": {
      "displayName": "Ana Clara Mioto",
      "userId": "02280775085590012326"
     },
     "user_tz": 180
    },
    "id": "gp4Purjf2kZe",
    "outputId": "8d0522dd-0b4b-4e02-da0d-efa85751e728"
   },
   "outputs": [
    {
     "name": "stdout",
     "output_type": "stream",
     "text": [
      "0.8148148148148148\n"
     ]
    }
   ],
   "source": [
    "# modelo KNN\n",
    "print(accuracy_score(y_teste, predito_knn))"
   ]
  },
  {
   "cell_type": "code",
   "execution_count": 59,
   "metadata": {
    "colab": {
     "base_uri": "https://localhost:8080/"
    },
    "executionInfo": {
     "elapsed": 227,
     "status": "ok",
     "timestamp": 1652941517250,
     "user": {
      "displayName": "Ana Clara Mioto",
      "userId": "02280775085590012326"
     },
     "user_tz": 180
    },
    "id": "7JrJXLJr2loH",
    "outputId": "53a1de2f-3e06-4dbd-fbc2-ddfcb77afac8"
   },
   "outputs": [
    {
     "name": "stdout",
     "output_type": "stream",
     "text": [
      "0.7549114331723027\n"
     ]
    }
   ],
   "source": [
    "# modelo Bernoulli de naive bayes\n",
    "print(accuracy_score(y_teste, predito_BNb))"
   ]
  },
  {
   "cell_type": "code",
   "execution_count": 60,
   "metadata": {
    "colab": {
     "base_uri": "https://localhost:8080/"
    },
    "executionInfo": {
     "elapsed": 250,
     "status": "ok",
     "timestamp": 1652941559246,
     "user": {
      "displayName": "Ana Clara Mioto",
      "userId": "02280775085590012326"
     },
     "user_tz": 180
    },
    "id": "BkvmkoN92nBX",
    "outputId": "25a1f793-a7db-43ab-90cd-7a9164cd2268"
   },
   "outputs": [
    {
     "name": "stdout",
     "output_type": "stream",
     "text": [
      "0.8077294685990338\n"
     ]
    }
   ],
   "source": [
    "# modelo árvore de decisão\n",
    "print(accuracy_score(y_teste, predito_ArvoreDecisao))"
   ]
  },
  {
   "cell_type": "markdown",
   "metadata": {
    "id": "kfzcKhw42tmX"
   },
   "source": [
    "##### Precisão\n",
    "\n",
    "Outra métrica importante é a precisão, que calcula quantos foram classificados corretamento como positivos ($TP$).\n",
    "\n",
    "$PS$ = ${TP \\over TP + FP}$"
   ]
  },
  {
   "cell_type": "code",
   "execution_count": 61,
   "metadata": {
    "executionInfo": {
     "elapsed": 247,
     "status": "ok",
     "timestamp": 1652941742672,
     "user": {
      "displayName": "Ana Clara Mioto",
      "userId": "02280775085590012326"
     },
     "user_tz": 180
    },
    "id": "BM4AbIm62wP6"
   },
   "outputs": [],
   "source": [
    "from sklearn.metrics import precision_score"
   ]
  },
  {
   "cell_type": "code",
   "execution_count": 62,
   "metadata": {
    "colab": {
     "base_uri": "https://localhost:8080/"
    },
    "executionInfo": {
     "elapsed": 246,
     "status": "ok",
     "timestamp": 1652941780254,
     "user": {
      "displayName": "Ana Clara Mioto",
      "userId": "02280775085590012326"
     },
     "user_tz": 180
    },
    "id": "hBD4K9r523g4",
    "outputId": "766a3c88-ec36-464f-c992-f3fe02925eda"
   },
   "outputs": [
    {
     "name": "stdout",
     "output_type": "stream",
     "text": [
      "0.7971552257266543\n"
     ]
    }
   ],
   "source": [
    "# modelo KNN\n",
    "print(precision_score(y_teste, predito_knn))"
   ]
  },
  {
   "cell_type": "code",
   "execution_count": 63,
   "metadata": {
    "colab": {
     "base_uri": "https://localhost:8080/"
    },
    "executionInfo": {
     "elapsed": 245,
     "status": "ok",
     "timestamp": 1652941821700,
     "user": {
      "displayName": "Ana Clara Mioto",
      "userId": "02280775085590012326"
     },
     "user_tz": 180
    },
    "id": "mUJumEYp24rf",
    "outputId": "2e123a15-9ae7-48af-9202-650ff221d8f5"
   },
   "outputs": [
    {
     "name": "stdout",
     "output_type": "stream",
     "text": [
      "0.7137341423055709\n"
     ]
    }
   ],
   "source": [
    "# modelo Bernoulli de naive bayes\n",
    "print(precision_score(y_teste, predito_BNb))"
   ]
  },
  {
   "cell_type": "code",
   "execution_count": 64,
   "metadata": {
    "colab": {
     "base_uri": "https://localhost:8080/"
    },
    "executionInfo": {
     "elapsed": 231,
     "status": "ok",
     "timestamp": 1652941837562,
     "user": {
      "displayName": "Ana Clara Mioto",
      "userId": "02280775085590012326"
     },
     "user_tz": 180
    },
    "id": "ST2dcOPJ25IS",
    "outputId": "b2716f09-35eb-4bfb-ade5-6317f84e3978"
   },
   "outputs": [
    {
     "name": "stdout",
     "output_type": "stream",
     "text": [
      "0.7973400886637112\n"
     ]
    }
   ],
   "source": [
    "# modelo árvore de decisão\n",
    "print(precision_score(y_teste, predito_ArvoreDecisao))"
   ]
  },
  {
   "cell_type": "markdown",
   "metadata": {
    "id": "TW59AoyU3DvW"
   },
   "source": [
    "##### Recall\n",
    "\n",
    "Outra métrica importante é a Recall ou revocação ou ainda sensibilidade, que calcula o quão bom o modelo está para classificar corretamente um resultado positivo ($TP$).\n",
    "\n",
    "$RC$ = ${TP \\over TP + FN}$"
   ]
  },
  {
   "cell_type": "code",
   "execution_count": 65,
   "metadata": {
    "executionInfo": {
     "elapsed": 263,
     "status": "ok",
     "timestamp": 1652942160529,
     "user": {
      "displayName": "Ana Clara Mioto",
      "userId": "02280775085590012326"
     },
     "user_tz": 180
    },
    "id": "SGX6E4Pi3LCt"
   },
   "outputs": [],
   "source": [
    "from sklearn.metrics import recall_score"
   ]
  },
  {
   "cell_type": "code",
   "execution_count": 66,
   "metadata": {
    "colab": {
     "base_uri": "https://localhost:8080/"
    },
    "executionInfo": {
     "elapsed": 267,
     "status": "ok",
     "timestamp": 1652942178072,
     "user": {
      "displayName": "Ana Clara Mioto",
      "userId": "02280775085590012326"
     },
     "user_tz": 180
    },
    "id": "CVEe2W_B3OTc",
    "outputId": "7902e8ee-01f9-4dfd-fbd8-4673dd20dfdb"
   },
   "outputs": [
    {
     "name": "stdout",
     "output_type": "stream",
     "text": [
      "0.8391927083333334\n"
     ]
    }
   ],
   "source": [
    "# modelo KNN\n",
    "print(recall_score(y_teste, predito_knn))"
   ]
  },
  {
   "cell_type": "code",
   "execution_count": 67,
   "metadata": {
    "colab": {
     "base_uri": "https://localhost:8080/"
    },
    "executionInfo": {
     "elapsed": 267,
     "status": "ok",
     "timestamp": 1652942220720,
     "user": {
      "displayName": "Ana Clara Mioto",
      "userId": "02280775085590012326"
     },
     "user_tz": 180
    },
    "id": "edPMCLA93Pw_",
    "outputId": "a1ac5a8d-ff2a-4070-9849-b748acf1e1aa"
   },
   "outputs": [
    {
     "name": "stdout",
     "output_type": "stream",
     "text": [
      "0.8424479166666666\n"
     ]
    }
   ],
   "source": [
    "# modelo Bernoulli de naive bayes\n",
    "print(recall_score(y_teste, predito_BNb))"
   ]
  },
  {
   "cell_type": "code",
   "execution_count": 68,
   "metadata": {
    "colab": {
     "base_uri": "https://localhost:8080/"
    },
    "executionInfo": {
     "elapsed": 235,
     "status": "ok",
     "timestamp": 1652942259017,
     "user": {
      "displayName": "Ana Clara Mioto",
      "userId": "02280775085590012326"
     },
     "user_tz": 180
    },
    "id": "4Wk5-4ej3Q_3",
    "outputId": "388ec9a8-724e-46b7-8921-c6ff22b492fc"
   },
   "outputs": [
    {
     "name": "stdout",
     "output_type": "stream",
     "text": [
      "0.8196614583333334\n"
     ]
    }
   ],
   "source": [
    "# modelo árvore de decisão\n",
    "print(recall_score(y_teste, predito_ArvoreDecisao))"
   ]
  },
  {
   "cell_type": "markdown",
   "metadata": {
    "id": "4O7N26Fg3XwI"
   },
   "source": [
    "###### Escolhendo o melhor modelo\n"
   ]
  },
  {
   "cell_type": "code",
   "execution_count": 69,
   "metadata": {
    "colab": {
     "base_uri": "https://localhost:8080/"
    },
    "executionInfo": {
     "elapsed": 232,
     "status": "ok",
     "timestamp": 1652942539077,
     "user": {
      "displayName": "Ana Clara Mioto",
      "userId": "02280775085590012326"
     },
     "user_tz": 180
    },
    "id": "RJ5Ls9lx3pfI",
    "outputId": "1cf93bac-bf6f-4f84-ac84-ef2df01f2778"
   },
   "outputs": [
    {
     "name": "stdout",
     "output_type": "stream",
     "text": [
      "Modelo KNN:  0.7971552257266543\n",
      "Modelo Bernoulli de Naive Bayes:  0.7137341423055709\n",
      "Modelo Árvore de Decisão:  0.7973400886637112\n"
     ]
    }
   ],
   "source": [
    "# Exemplo - análise das precisões calculadas anteriormente\n",
    "print('Modelo KNN: ', precision_score(y_teste, predito_knn))\n",
    "print('Modelo Bernoulli de Naive Bayes: ', precision_score(y_teste, predito_BNb))\n",
    "print('Modelo Árvore de Decisão: ', precision_score(y_teste, predito_ArvoreDecisao))"
   ]
  }
 ],
 "metadata": {
  "colab": {
   "collapsed_sections": [
    "zCcuXt0FZfNe"
   ],
   "name": "Projeto_ML.ipynb",
   "provenance": []
  },
  "interpreter": {
   "hash": "df87b94f50c6b8081a9a425f6ade537f06441a824b7d68371eb29c5a5eb2838b"
  },
  "kernelspec": {
   "display_name": "Python 3",
   "language": "python",
   "name": "python3"
  },
  "language_info": {
   "codemirror_mode": {
    "name": "ipython",
    "version": 3
   },
   "file_extension": ".py",
   "mimetype": "text/x-python",
   "name": "python",
   "nbconvert_exporter": "python",
   "pygments_lexer": "ipython3",
   "version": "3.7.6"
  }
 },
 "nbformat": 4,
 "nbformat_minor": 1
}
